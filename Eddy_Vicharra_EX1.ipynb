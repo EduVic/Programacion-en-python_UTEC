{
  "nbformat": 4,
  "nbformat_minor": 0,
  "metadata": {
    "colab": {
      "provenance": [],
      "authorship_tag": "ABX9TyPece/8xew2P8HGPUNWV01j",
      "include_colab_link": true
    },
    "kernelspec": {
      "name": "python3",
      "display_name": "Python 3"
    },
    "language_info": {
      "name": "python"
    }
  },
  "cells": [
    {
      "cell_type": "markdown",
      "metadata": {
        "id": "view-in-github",
        "colab_type": "text"
      },
      "source": [
        "<a href=\"https://colab.research.google.com/github/EduVic/Programacion-en-python_UTEC/blob/main/Eddy_Vicharra_EX1.ipynb\" target=\"_parent\"><img src=\"https://colab.research.google.com/assets/colab-badge.svg\" alt=\"Open In Colab\"/></a>"
      ]
    },
    {
      "cell_type": "markdown",
      "source": [
        "**Ejercicio_1**"
      ],
      "metadata": {
        "id": "L8N1Y8YNU96C"
      }
    },
    {
      "cell_type": "markdown",
      "source": [
        "Ventas semanales"
      ],
      "metadata": {
        "id": "2V_CF1yCVuc5"
      }
    },
    {
      "cell_type": "code",
      "source": [
        "ventas_semanales = [25000, 28000, 31000, 27500, 33000, 29000,\n",
        "35000, 32000, 30000, 28500, 26000, 33500]"
      ],
      "metadata": {
        "id": "NxW0MHWiVCnv"
      },
      "execution_count": 5,
      "outputs": []
    },
    {
      "cell_type": "markdown",
      "source": [
        "Identificando la semana con el mejor resultado de venta"
      ],
      "metadata": {
        "id": "GXLPJDJNV7AS"
      }
    },
    {
      "cell_type": "code",
      "source": [
        "mejor_semana = ventas_semanales.index(max(ventas_semanales)) + 1\n",
        "print(mejor_semana)"
      ],
      "metadata": {
        "colab": {
          "base_uri": "https://localhost:8080/"
        },
        "id": "PPT_eb0xV_kP",
        "outputId": "04d0bd4e-d094-478c-91d3-946ec9db2004"
      },
      "execution_count": 8,
      "outputs": [
        {
          "output_type": "stream",
          "name": "stdout",
          "text": [
            "7\n"
          ]
        }
      ]
    },
    {
      "cell_type": "markdown",
      "source": [
        "Identificando la semana con el peor resultado de venta"
      ],
      "metadata": {
        "id": "CcSRrYucWi_I"
      }
    },
    {
      "cell_type": "code",
      "source": [
        "peor_semana = ventas_semanales.index(min(ventas_semanales)) + 1\n",
        "print(peor_semana)"
      ],
      "metadata": {
        "colab": {
          "base_uri": "https://localhost:8080/"
        },
        "id": "x8HlBSbsWtXv",
        "outputId": "256405da-49d9-4178-c6f2-82ba456eb634"
      },
      "execution_count": 10,
      "outputs": [
        {
          "output_type": "stream",
          "name": "stdout",
          "text": [
            "1\n"
          ]
        }
      ]
    },
    {
      "cell_type": "markdown",
      "source": [
        "Calculando la venta promedio de la tienda"
      ],
      "metadata": {
        "id": "WS9U3zSXXN2O"
      }
    },
    {
      "cell_type": "code",
      "source": [
        "venta_promedio = sum(ventas_semanales)/len(ventas_semanales)\n",
        "print(venta_promedio)"
      ],
      "metadata": {
        "colab": {
          "base_uri": "https://localhost:8080/"
        },
        "id": "NB8poaDAXTka",
        "outputId": "107497b8-0226-48aa-8571-8cadaccbf3b7"
      },
      "execution_count": 11,
      "outputs": [
        {
          "output_type": "stream",
          "name": "stdout",
          "text": [
            "29875.0\n"
          ]
        }
      ]
    },
    {
      "cell_type": "markdown",
      "source": [
        "Calculando medida de dispersion de ventas"
      ],
      "metadata": {
        "id": "nsrFvLvEX6zp"
      }
    },
    {
      "cell_type": "code",
      "source": [
        "import statistics\n",
        "desviacion_estandar = round(statistics.stdev(ventas_semanales),2)\n",
        "print(desviacion_estandar)"
      ],
      "metadata": {
        "colab": {
          "base_uri": "https://localhost:8080/"
        },
        "id": "CynIHatsYCLS",
        "outputId": "72d0ae1f-66a9-4eb6-8140-b60d53ce6497"
      },
      "execution_count": 15,
      "outputs": [
        {
          "output_type": "stream",
          "name": "stdout",
          "text": [
            "3097.84\n"
          ]
        }
      ]
    },
    {
      "cell_type": "markdown",
      "source": [
        "Creando un diccionario con la informaciòn registrada"
      ],
      "metadata": {
        "id": "NlmGM_HWYW9y"
      }
    },
    {
      "cell_type": "code",
      "source": [
        "info_ventas = {\n",
        "    \"mejor semana\": mejor_semana,\n",
        "    \"peor semana\": peor_semana,\n",
        "    \"venta promedio\": venta_promedio,\n",
        "    \"desviacion estandar\": desviacion_estandar\n",
        "}\n",
        "print(info_ventas)"
      ],
      "metadata": {
        "colab": {
          "base_uri": "https://localhost:8080/"
        },
        "id": "IDEXUZkRYclr",
        "outputId": "cb0ade5e-6208-4a51-d31c-d61abdef112b"
      },
      "execution_count": 16,
      "outputs": [
        {
          "output_type": "stream",
          "name": "stdout",
          "text": [
            "{'mejor semana': 7, 'peor semana': 1, 'venta promedio': 29875.0, 'desviacion estandar': 3097.84}\n"
          ]
        }
      ]
    },
    {
      "cell_type": "markdown",
      "source": [
        "**Ejercicio 2**"
      ],
      "metadata": {
        "id": "j-Z_xbJWZ7P9"
      }
    },
    {
      "cell_type": "markdown",
      "source": [
        "Almacenando los resultados de lanzar un dado en una tupla"
      ],
      "metadata": {
        "id": "PFzybXAjauWt"
      }
    },
    {
      "cell_type": "code",
      "source": [
        "tupla_dados = (1, 2, 3, 4, 5, 6)\n",
        "resultados = [ ]"
      ],
      "metadata": {
        "id": "j348Gu94aCkE"
      },
      "execution_count": 27,
      "outputs": []
    },
    {
      "cell_type": "markdown",
      "source": [
        "Importando libreria random"
      ],
      "metadata": {
        "id": "32-cSZKefVgu"
      }
    },
    {
      "cell_type": "code",
      "source": [
        "import random"
      ],
      "metadata": {
        "id": "qBK0mvnNblFu"
      },
      "execution_count": 28,
      "outputs": []
    },
    {
      "cell_type": "markdown",
      "source": [
        "Simular el lanzamiento de dos dados a la vez y registrar los resultados"
      ],
      "metadata": {
        "id": "4X_BtCQGeX9E"
      }
    },
    {
      "cell_type": "code",
      "source": [
        "for _ in range(num_lanzamientos):\n",
        "    lanzamiento_dado1 = random.choice(tupla_dados)\n",
        "    lanzamiento_dado2 = random.choice(tupla_dados)\n",
        "    resultados.append((lanzamiento_dado1, lanzamiento_dado2))"
      ],
      "metadata": {
        "id": "5UKreOFxeYy7"
      },
      "execution_count": 29,
      "outputs": []
    },
    {
      "cell_type": "markdown",
      "source": [
        "Ingresar por teclado el número de lanzamientos"
      ],
      "metadata": {
        "id": "sBszD7clfK6x"
      }
    },
    {
      "cell_type": "code",
      "source": [
        "num_lanzamientos = int(input(\"Ingrese el número de lanzamientos de ambos dados: \"))\n"
      ],
      "metadata": {
        "colab": {
          "base_uri": "https://localhost:8080/"
        },
        "id": "PES4x-ARfLVw",
        "outputId": "9a1e2dc5-634d-4277-f09d-6a4f8c4d6d43"
      },
      "execution_count": 30,
      "outputs": [
        {
          "name": "stdout",
          "output_type": "stream",
          "text": [
            "Ingrese el número de lanzamientos de ambos dados: 5\n"
          ]
        }
      ]
    },
    {
      "cell_type": "markdown",
      "source": [
        "Mostrar los lanzamientos resultantes"
      ],
      "metadata": {
        "id": "GO3_j8yFflOZ"
      }
    },
    {
      "cell_type": "code",
      "source": [
        "print(\"Lanzamientos resultantes:\")\n",
        "for lanzamiento in resultados:\n",
        "    print(lanzamiento)"
      ],
      "metadata": {
        "colab": {
          "base_uri": "https://localhost:8080/"
        },
        "id": "ymfdbMsAfpIb",
        "outputId": "bf7db63e-0b87-4971-b458-56db9618028c"
      },
      "execution_count": 31,
      "outputs": [
        {
          "output_type": "stream",
          "name": "stdout",
          "text": [
            "Lanzamientos resultantes:\n",
            "(1, 2)\n",
            "(2, 4)\n",
            "(1, 4)\n",
            "(6, 3)\n",
            "(1, 6)\n"
          ]
        }
      ]
    },
    {
      "cell_type": "markdown",
      "source": [
        "Mostrar la sumatoria de los dos valores resultantes"
      ],
      "metadata": {
        "id": "4YLqvqhXf1rv"
      }
    },
    {
      "cell_type": "code",
      "source": [
        "sumatoria = [sum(lanzamiento) for lanzamiento in resultados]\n",
        "print(\"Sumatoria de los dos valores resultantes:\", sumatoria)"
      ],
      "metadata": {
        "colab": {
          "base_uri": "https://localhost:8080/"
        },
        "id": "xJxCNW59f2hs",
        "outputId": "aca6be43-997d-406f-df16-ecdce8c586a9"
      },
      "execution_count": 32,
      "outputs": [
        {
          "output_type": "stream",
          "name": "stdout",
          "text": [
            "Sumatoria de los dos valores resultantes: [3, 6, 5, 9, 7]\n"
          ]
        }
      ]
    },
    {
      "cell_type": "markdown",
      "source": [
        "**Ejercicico 3**"
      ],
      "metadata": {
        "id": "6lqqRcnQliHC"
      }
    },
    {
      "cell_type": "code",
      "source": [
        "texto = input(\"Ingrese el texto: \")\n",
        "\n",
        "# Creando un diccionario\n",
        "contador_letras = {}\n",
        "\n",
        "# Contar la cantidad de veces que aparece cada letra en el texto\n",
        "for letra in texto:\n",
        "    if letra in contador_letras:\n",
        "        contador_letras[letra] += 1\n",
        "    else:\n",
        "        contador_letras[letra] = 1\n",
        "\n",
        "# Mostrar el diccionario resultante\n",
        "print(\"Cantidad de veces que aparece cada letra:\")\n",
        "for letra, cantidad in contador_letras.items():\n",
        "    print(f\"{letra}: {cantidad}\")"
      ],
      "metadata": {
        "colab": {
          "base_uri": "https://localhost:8080/"
        },
        "id": "cMQ6NhuKlmZM",
        "outputId": "302a1360-e8d1-48a5-a2d3-18f886a8f4bd"
      },
      "execution_count": 36,
      "outputs": [
        {
          "output_type": "stream",
          "name": "stdout",
          "text": [
            "Ingrese el texto: kasdbvbasdvbasbvdias\n",
            "Cantidad de veces que aparece cada letra:\n",
            "k: 1\n",
            "a: 4\n",
            "s: 4\n",
            "d: 3\n",
            "b: 4\n",
            "v: 3\n",
            "i: 1\n"
          ]
        }
      ]
    }
  ]
}